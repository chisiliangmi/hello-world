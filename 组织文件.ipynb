{
 "metadata": {
  "language_info": {
   "codemirror_mode": {
    "name": "ipython",
    "version": 3
   },
   "file_extension": ".py",
   "mimetype": "text/x-python",
   "name": "python",
   "nbconvert_exporter": "python",
   "pygments_lexer": "ipython3",
   "version": 3
  },
  "orig_nbformat": 2
 },
 "nbformat": 4,
 "nbformat_minor": 2,
 "cells": [
  {
   "cell_type": "code",
   "execution_count": null,
   "metadata": {},
   "outputs": [],
   "source": [
    "import shutil, os， send2trash"
   ]
  },
  {
   "cell_type": "code",
   "execution_count": null,
   "metadata": {},
   "outputs": [],
   "source": [
    "os.chdir('C:\\\\')"
   ]
  },
  {
   "source": [
    "1、文件和文件夹复制"
   ],
   "cell_type": "markdown",
   "metadata": {}
  },
  {
   "cell_type": "code",
   "execution_count": null,
   "metadata": {},
   "outputs": [],
   "source": [
    "# 复制文件\n",
    "shutil.copy('C:\\\\spam.txt', 'C:\\\\dilicious')\n",
    "shutil.copy('eggs.txt', 'C:\\\\delicious\\\\eggs2.txt')"
   ]
  },
  {
   "cell_type": "code",
   "execution_count": null,
   "metadata": {},
   "outputs": [],
   "source": [
    "# 复制文件夹\n",
    "shutil.copytree('C:\\\\bacon', 'C:\\\\bacon_backup')"
   ]
  },
  {
   "source": [
    "2、文件和文件夹移动与改名"
   ],
   "cell_type": "markdown",
   "metadata": {}
  },
  {
   "cell_type": "code",
   "execution_count": null,
   "metadata": {},
   "outputs": [],
   "source": [
    "shutil.move('C:\\\\bacon.txt', 'C;\\\\eggs')\n",
    "shutil.move('C:\\\\bacon.txt', 'C;\\\\eggs\\\\new_bacon.txt')"
   ]
  },
  {
   "source": [
    "3、永久删除文件和文件夹"
   ],
   "cell_type": "markdown",
   "metadata": {}
  },
  {
   "cell_type": "code",
   "execution_count": null,
   "metadata": {},
   "outputs": [],
   "source": [
    "# 删除文件\n",
    "for filename in os.listdir():\n",
    "    if filename.endswith('.rtxt'):\n",
    "        #os.unlink(filename)\n",
    "        print(filename)"
   ]
  },
  {
   "cell_type": "code",
   "execution_count": null,
   "metadata": {},
   "outputs": [],
   "source": [
    "# 删除空文件夹\n",
    "os.rmdir(path)\n",
    "# 删除文件夹\n",
    "shutil.rmtree(path)"
   ]
  },
  {
   "source": [
    "4、文件与文件夹的安全删除"
   ],
   "cell_type": "markdown",
   "metadata": {}
  },
  {
   "cell_type": "code",
   "execution_count": null,
   "metadata": {},
   "outputs": [],
   "source": [
    "send2trash.send2trash('C:\\\\Python\\\\bacon.txt')"
   ]
  },
  {
   "source": [
    "5、遍历目录树"
   ],
   "cell_type": "markdown",
   "metadata": {}
  },
  {
   "cell_type": "code",
   "execution_count": null,
   "metadata": {},
   "outputs": [],
   "source": [
    "for folderName, subfolders, filenames in os.walk('D:\\\\Python\\\\python_work\\\\benbanfa'):\n",
    "    print('当前文件夹是： ' + folderName)\n",
    "\n",
    "    for subfolder in subfolders:\n",
    "        print(folderName + '中有子文件夹： ' + subfolder)\n",
    "    for filename in filenames:\n",
    "        print(folderName + '中有文件： ' + filename)\n",
    "    \n",
    "    print('\\n')"
   ]
  }
 ]
}